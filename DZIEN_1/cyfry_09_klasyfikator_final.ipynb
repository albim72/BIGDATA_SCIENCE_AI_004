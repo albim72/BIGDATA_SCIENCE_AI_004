{
 "cells":[
  {
   "cell_type":"code",
   "source":[
    "import matplotlib.pyplot as plt\n",
    "from sklearn import datasets, metrics, svm\n",
    "from sklearn.model_selection import train_test_split"
   ],
   "execution_count":177,
   "outputs":[],
   "metadata":{
    "datalore":{
     "node_id":"Cb1qxyPXtdmf6pkBXNu1Xq",
     "type":"CODE",
     "hide_input_from_viewers":true,
     "hide_output_from_viewers":true
    }
   }
  },
  {
   "cell_type":"code",
   "source":[
    "digits = datasets.load_digits()"
   ],
   "execution_count":178,
   "outputs":[],
   "metadata":{
    "datalore":{
     "node_id":"NJYpepO7CF2wzfpxF3xEeD",
     "type":"CODE",
     "hide_input_from_viewers":true,
     "hide_output_from_viewers":true
    }
   }
  },
  {
   "cell_type":"code",
   "source":[
    "_, axes = plt.subplots(nrows=1,ncols=4,figsize=(15,4))\n",
    "for ax,image,label in zip(axes,digits.images,digits.target): \n",
    "    ax.set_axis_off()\n",
    "    ax.imshow(image,cmap=plt.cm.gray_r,interpolation=\"nearest\")\n",
    "    ax.set_title(f\"trening: {label}\")"
   ],
   "execution_count":179,
   "outputs":[
    {
     "data":{
      "image\/png":"[encoded data removed]"
     },
     "metadata":{
      "image\/png":{}
     },
     "output_type":"display_data"
    }
   ],
   "metadata":{
    "datalore":{
     "node_id":"MdGfEJ4Vw04K0plKbWBLms",
     "type":"CODE",
     "hide_input_from_viewers":true,
     "hide_output_from_viewers":true
    }
   }
  },
  {
   "cell_type":"code",
   "source":[
    "n_samples = len(digits.images)"
   ],
   "execution_count":180,
   "outputs":[],
   "metadata":{
    "datalore":{
     "node_id":"6VkWfTcZmwEAbjKnKHFU5t",
     "type":"CODE",
     "hide_input_from_viewers":true,
     "hide_output_from_viewers":true
    }
   }
  },
  {
   "cell_type":"code",
   "source":[
    "n_samples"
   ],
   "execution_count":181,
   "outputs":[
    {
     "data":{
      "text\/plain":[
       "1797"
      ]
     },
     "metadata":{},
     "output_type":"display_data"
    }
   ],
   "metadata":{
    "datalore":{
     "node_id":"7y1DLg5U13meBmeDhgsA9m",
     "type":"CODE",
     "hide_input_from_viewers":true,
     "hide_output_from_viewers":true
    }
   }
  },
  {
   "cell_type":"code",
   "source":[
    "#klasyfikator svm  parametry C - parametr regularyzacji (kontroluje kompromis pomiędzy maksymalizacją marginesu \n",
    "#a minimalizacją błędów klasyfikacji), gamma - parametry jądra svm (kontroluje wpływ pojedynczego wektora na decyzję)\n",
    "clf = svm.SVC(gamma=0.001,C=1)"
   ],
   "execution_count":182,
   "outputs":[],
   "metadata":{
    "datalore":{
     "node_id":"nTO7Pth9YWWXYSsIhFWRfG",
     "type":"CODE",
     "hide_input_from_viewers":true,
     "hide_output_from_viewers":true
    }
   }
  },
  {
   "cell_type":"code",
   "source":[
    "digits.images.shape"
   ],
   "execution_count":183,
   "outputs":[
    {
     "data":{
      "text\/plain":[
       "(1797, 8, 8)"
      ]
     },
     "metadata":{},
     "output_type":"display_data"
    }
   ],
   "metadata":{
    "datalore":{
     "node_id":"QfIl5kc6Kk7ieUO0gNIZsF",
     "type":"CODE",
     "hide_input_from_viewers":true,
     "hide_output_from_viewers":true
    }
   }
  },
  {
   "cell_type":"code",
   "source":[
    "#noramlaizacja obrazu - redukcja wymiaru z macierzy 8x8 do wektora o długości 64\n",
    "data = digits.images.reshape(n_samples,-1)"
   ],
   "execution_count":184,
   "outputs":[],
   "metadata":{
    "datalore":{
     "node_id":"yElGjeneMdnC3LryXuPD5U",
     "type":"CODE",
     "hide_input_from_viewers":true,
     "hide_output_from_viewers":true
    }
   }
  },
  {
   "cell_type":"code",
   "source":[
    "data.shape"
   ],
   "execution_count":185,
   "outputs":[
    {
     "data":{
      "text\/plain":[
       "(1797, 64)"
      ]
     },
     "metadata":{},
     "output_type":"display_data"
    }
   ],
   "metadata":{
    "datalore":{
     "node_id":"jh6GvkVlwBqhZldgf27uzj",
     "type":"CODE",
     "hide_input_from_viewers":true,
     "hide_output_from_viewers":true
    }
   }
  },
  {
   "cell_type":"code",
   "source":[
    "#podział zbioru danych na zbiór treningowy i testowy\n",
    "X_train,X_test,y_train,y_test = train_test_split(data,digits.target,test_size=0.5,shuffle=False)"
   ],
   "execution_count":186,
   "outputs":[],
   "metadata":{
    "datalore":{
     "node_id":"6lywRyImDZApI2IuqVDvfz",
     "type":"CODE",
     "hide_input_from_viewers":true,
     "hide_output_from_viewers":true
    }
   }
  },
  {
   "cell_type":"code",
   "source":[
    "clf.fit(X_train,y_train)"
   ],
   "execution_count":187,
   "outputs":[
    {
     "data":{
      "text\/html":[
       "<style>#sk-container-id-14 {color: black;}#sk-container-id-14 pre{padding: 0;}#sk-container-id-14 div.sk-toggleable {background-color: white;}#sk-container-id-14 label.sk-toggleable__label {cursor: pointer;display: block;width: 100%;margin-bottom: 0;padding: 0.3em;box-sizing: border-box;text-align: center;}#sk-container-id-14 label.sk-toggleable__label-arrow:before {content: \"▸\";float: left;margin-right: 0.25em;color: #696969;}#sk-container-id-14 label.sk-toggleable__label-arrow:hover:before {color: black;}#sk-container-id-14 div.sk-estimator:hover label.sk-toggleable__label-arrow:before {color: black;}#sk-container-id-14 div.sk-toggleable__content {max-height: 0;max-width: 0;overflow: hidden;text-align: left;background-color: #f0f8ff;}#sk-container-id-14 div.sk-toggleable__content pre {margin: 0.2em;color: black;border-radius: 0.25em;background-color: #f0f8ff;}#sk-container-id-14 input.sk-toggleable__control:checked~div.sk-toggleable__content {max-height: 200px;max-width: 100%;overflow: auto;}#sk-container-id-14 input.sk-toggleable__control:checked~label.sk-toggleable__label-arrow:before {content: \"▾\";}#sk-container-id-14 div.sk-estimator input.sk-toggleable__control:checked~label.sk-toggleable__label {background-color: #d4ebff;}#sk-container-id-14 div.sk-label input.sk-toggleable__control:checked~label.sk-toggleable__label {background-color: #d4ebff;}#sk-container-id-14 input.sk-hidden--visually {border: 0;clip: rect(1px 1px 1px 1px);clip: rect(1px, 1px, 1px, 1px);height: 1px;margin: -1px;overflow: hidden;padding: 0;position: absolute;width: 1px;}#sk-container-id-14 div.sk-estimator {font-family: monospace;background-color: #f0f8ff;border: 1px dotted black;border-radius: 0.25em;box-sizing: border-box;margin-bottom: 0.5em;}#sk-container-id-14 div.sk-estimator:hover {background-color: #d4ebff;}#sk-container-id-14 div.sk-parallel-item::after {content: \"\";width: 100%;border-bottom: 1px solid gray;flex-grow: 1;}#sk-container-id-14 div.sk-label:hover label.sk-toggleable__label {background-color: #d4ebff;}#sk-container-id-14 div.sk-serial::before {content: \"\";position: absolute;border-left: 1px solid gray;box-sizing: border-box;top: 0;bottom: 0;left: 50%;z-index: 0;}#sk-container-id-14 div.sk-serial {display: flex;flex-direction: column;align-items: center;background-color: white;padding-right: 0.2em;padding-left: 0.2em;position: relative;}#sk-container-id-14 div.sk-item {position: relative;z-index: 1;}#sk-container-id-14 div.sk-parallel {display: flex;align-items: stretch;justify-content: center;background-color: white;position: relative;}#sk-container-id-14 div.sk-item::before, #sk-container-id-14 div.sk-parallel-item::before {content: \"\";position: absolute;border-left: 1px solid gray;box-sizing: border-box;top: 0;bottom: 0;left: 50%;z-index: -1;}#sk-container-id-14 div.sk-parallel-item {display: flex;flex-direction: column;z-index: 1;position: relative;background-color: white;}#sk-container-id-14 div.sk-parallel-item:first-child::after {align-self: flex-end;width: 50%;}#sk-container-id-14 div.sk-parallel-item:last-child::after {align-self: flex-start;width: 50%;}#sk-container-id-14 div.sk-parallel-item:only-child::after {width: 0;}#sk-container-id-14 div.sk-dashed-wrapped {border: 1px dashed gray;margin: 0 0.4em 0.5em 0.4em;box-sizing: border-box;padding-bottom: 0.4em;background-color: white;}#sk-container-id-14 div.sk-label label {font-family: monospace;font-weight: bold;display: inline-block;line-height: 1.2em;}#sk-container-id-14 div.sk-label-container {text-align: center;}#sk-container-id-14 div.sk-container {\/* jupyter's `normalize.less` sets `[hidden] { display: none; }` but bootstrap.min.css set `[hidden] { display: none !important; }` so we also need the `!important` here to be able to override the default hidden behavior on the sphinx rendered scikit-learn.org. See: https:\/\/github.com\/scikit-learn\/scikit-learn\/issues\/21755 *\/display: inline-block !important;position: relative;}#sk-container-id-14 div.sk-text-repr-fallback {display: none;}<\/style><div id=\"sk-container-id-14\" class=\"sk-top-container\"><div class=\"sk-text-repr-fallback\"><pre>SVC(C=1, gamma=0.0015)<\/pre><b>In a Jupyter environment, please rerun this cell to show the HTML representation or trust the notebook. <br \/>On GitHub, the HTML representation is unable to render, please try loading this page with nbviewer.org.<\/b><\/div><div class=\"sk-container\" hidden><div class=\"sk-item\"><div class=\"sk-estimator sk-toggleable\"><input class=\"sk-toggleable__control sk-hidden--visually\" id=\"sk-estimator-id-14\" type=\"checkbox\" checked><label for=\"sk-estimator-id-14\" class=\"sk-toggleable__label sk-toggleable__label-arrow\">SVC<\/label><div class=\"sk-toggleable__content\"><pre>SVC(C=1, gamma=0.0015)<\/pre><\/div><\/div><\/div><\/div><\/div>"
      ]
     },
     "metadata":{},
     "output_type":"display_data"
    }
   ],
   "metadata":{
    "datalore":{
     "node_id":"gqPB55PZDITNRPiTpBJsmI",
     "type":"CODE",
     "hide_input_from_viewers":true,
     "hide_output_from_viewers":true
    }
   }
  },
  {
   "cell_type":"code",
   "source":[
    "predicted = clf.predict(X_test)"
   ],
   "execution_count":188,
   "outputs":[],
   "metadata":{
    "datalore":{
     "node_id":"tORSdTHC3KNXdOAFHpDy2i",
     "type":"CODE",
     "hide_input_from_viewers":true,
     "hide_output_from_viewers":true
    }
   }
  },
  {
   "cell_type":"code",
   "source":[
    "_, axes = plt.subplots(nrows=1,ncols=4,figsize=(15,4))\n",
    "for ax,image,prediction in zip(axes,X_test,predicted): \n",
    "    ax.set_axis_off()\n",
    "    image = image.reshape((8,8))\n",
    "    ax.imshow(image,cmap=plt.cm.gray_r,interpolation=\"nearest\")\n",
    "    ax.set_title(f\"predykcja: {prediction}\")"
   ],
   "execution_count":189,
   "outputs":[
    {
     "data":{
      "image\/png":"[encoded data removed]"
     },
     "metadata":{
      "image\/png":{}
     },
     "output_type":"display_data"
    }
   ],
   "metadata":{
    "datalore":{
     "node_id":"PuJQjWtH2vkwijTCH4gzGa",
     "type":"CODE",
     "hide_input_from_viewers":true,
     "hide_output_from_viewers":true
    }
   }
  },
  {
   "cell_type":"code",
   "source":[
    "y_test[0], y_test[1], y_test[2], y_test[3]"
   ],
   "execution_count":190,
   "outputs":[
    {
     "data":{
      "text\/plain":[
       "(8, 8, 4, 9)"
      ]
     },
     "metadata":{},
     "output_type":"display_data"
    }
   ],
   "metadata":{
    "datalore":{
     "node_id":"3iqEbjjpTJqk7pAjEc1emF",
     "type":"CODE",
     "hide_input_from_viewers":true,
     "hide_output_from_viewers":true
    }
   }
  },
  {
   "cell_type":"code",
   "source":[
    "#ocena modelu\n",
    "print(f\"raport klasyfikacyjny dla {clf} ->\\n{metrics.classification_report(y_test,predicted)}\\n\")"
   ],
   "execution_count":191,
   "outputs":[
    {
     "name":"stdout",
     "text":[
      "raport klasyfikacyjny dla SVC(C=1, gamma=0.0015) ->\n",
      "              precision    recall  f1-score   support\n",
      "\n",
      "           0       1.00      0.98      0.99        88\n",
      "           1       0.99      0.98      0.98        91\n",
      "           2       0.99      0.98      0.98        86\n",
      "           3       0.99      0.88      0.93        91\n",
      "           4       0.99      0.96      0.97        92\n",
      "           5       0.95      0.96      0.95        91\n",
      "           6       0.99      0.99      0.99        91\n",
      "           7       0.97      0.99      0.98        89\n",
      "           8       0.94      1.00      0.97        88\n",
      "           9       0.90      0.98      0.94        92\n",
      "\n",
      "    accuracy                           0.97       899\n",
      "   macro avg       0.97      0.97      0.97       899\n",
      "weighted avg       0.97      0.97      0.97       899\n",
      "\n",
      "\n"
     ],
     "output_type":"stream"
    }
   ],
   "metadata":{
    "datalore":{
     "node_id":"TkBSNH6Oczq40MnqoqB14o",
     "type":"CODE",
     "hide_input_from_viewers":true,
     "hide_output_from_viewers":true
    }
   }
  },
  {
   "cell_type":"code",
   "source":[
    "disp = metrics.ConfusionMatrixDisplay.from_predictions(y_test,predicted)\n",
    "disp.figure_.suptitle(\"Macierz pomyłek\")"
   ],
   "execution_count":192,
   "outputs":[
    {
     "data":{
      "text\/plain":[
       "Text(0.5, 0.98, 'Macierz pomyłek')"
      ]
     },
     "metadata":{},
     "output_type":"display_data"
    },
    {
     "data":{
      "image\/png":"[encoded data removed]"
     },
     "metadata":{
      "image\/png":{}
     },
     "output_type":"display_data"
    }
   ],
   "metadata":{
    "datalore":{
     "node_id":"6S37StOIObYqIWH3NbkNl0",
     "type":"CODE",
     "hide_input_from_viewers":true,
     "hide_output_from_viewers":true
    }
   }
  }
 ],
 "metadata":{
  "kernelspec":{
   "display_name":"Python",
   "language":"python",
   "name":"python"
  },
  "datalore":{
   "computation_mode":"JUPYTER",
   "package_manager":"pip",
   "base_environment":"default",
   "packages":[],
   "report_row_ids":[],
   "version":3
  }
 },
 "nbformat":4,
 "nbformat_minor":4
}